{
 "cells": [
  {
   "cell_type": "code",
   "execution_count": null,
   "metadata": {
    "dotnet_interactive": {
     "language": "csharp"
    },
    "polyglot_notebook": {
     "kernelName": "csharp"
    }
   },
   "outputs": [],
   "source": [
    "#install required libraies in terminal\n",
    "\n",
    "\n",
    "pip install langchain-openai\n",
    "pip install openai"
   ]
  },
  {
   "cell_type": "code",
   "execution_count": 88,
   "metadata": {},
   "outputs": [],
   "source": [
    "#import the required libraries\n",
    "import langchain\n",
    "import openai\n",
    "import getpass\n",
    "\n",
    "\n",
    "#load he environment variables\n",
    "\n",
    "os.environ[\"AZURE_OPENAI_API_KEY\"] = getpass.getpass(\"Enter your AzureOpenAI API key: \")\n",
    "os.environ[\"AZURE_OPENAI_ENDPOINT\"] = \"https://xe-ai.openai.azure.com/\"\n",
    "\n",
    "\n"
   ]
  },
  {
   "cell_type": "code",
   "execution_count": 89,
   "metadata": {
    "dotnet_interactive": {
     "language": "csharp"
    },
    "polyglot_notebook": {
     "kernelName": "csharp"
    }
   },
   "outputs": [],
   "source": [
    "from langchain_openai import AzureChatOpenAI\n",
    "\n",
    "llm = AzureChatOpenAI(\n",
    "    azure_deployment=\"deploy-gpt-35-turbo\",  # or your deployment\n",
    "    api_version=\"2023-06-01-preview\",  # or your api version\n",
    ")"
   ]
  },
  {
   "cell_type": "code",
   "execution_count": 90,
   "metadata": {},
   "outputs": [
    {
     "data": {
      "text/plain": [
       "AIMessage(content='\"This artificial intelligence book club is very cool.\"', response_metadata={'token_usage': {'completion_tokens': 9, 'prompt_tokens': 42, 'total_tokens': 51}, 'model_name': 'gpt-35-turbo', 'system_fingerprint': None, 'prompt_filter_results': [{'prompt_index': 0, 'content_filter_results': {'hate': {'filtered': False, 'severity': 'safe'}, 'jailbreak': {'filtered': False, 'detected': False}, 'self_harm': {'filtered': False, 'severity': 'safe'}, 'sexual': {'filtered': False, 'severity': 'safe'}, 'violence': {'filtered': False, 'severity': 'safe'}}}], 'finish_reason': 'stop', 'logprobs': None, 'content_filter_results': {'hate': {'filtered': False, 'severity': 'safe'}, 'protected_material_code': {'filtered': False, 'detected': False}, 'protected_material_text': {'filtered': False, 'detected': False}, 'self_harm': {'filtered': False, 'severity': 'safe'}, 'sexual': {'filtered': False, 'severity': 'safe'}, 'violence': {'filtered': False, 'severity': 'safe'}}}, id='run-b34845f6-c7c9-489d-810d-add5d7bca8f5-0', usage_metadata={'input_tokens': 42, 'output_tokens': 9, 'total_tokens': 51})"
      ]
     },
     "execution_count": 90,
     "metadata": {},
     "output_type": "execute_result"
    }
   ],
   "source": [
    "messages = [\n",
    "    (\n",
    "        \"system\",\n",
    "        \"You are a helpful assistant that translates Spanish Mexico to English. Translate the user sentence.\",\n",
    "    ),\n",
    "    (\"human\", \"Esta muy padre este club del libro de intelligencia artificial.\"),\n",
    "]\n",
    "ai_msg = llm.invoke(messages)\n",
    "ai_msg"
   ]
  },
  {
   "cell_type": "code",
   "execution_count": 91,
   "metadata": {},
   "outputs": [
    {
     "data": {
      "text/plain": [
       "AIMessage(content='Mi scusi, questa frase è in spagnolo. Se vuoi che ti aiuti a tradurla in italiano, posso farlo.', response_metadata={'token_usage': {'completion_tokens': 31, 'prompt_tokens': 36, 'total_tokens': 67}, 'model_name': 'gpt-35-turbo', 'system_fingerprint': None, 'prompt_filter_results': [{'prompt_index': 0, 'content_filter_results': {'hate': {'filtered': False, 'severity': 'safe'}, 'jailbreak': {'filtered': False, 'detected': False}, 'self_harm': {'filtered': False, 'severity': 'safe'}, 'sexual': {'filtered': False, 'severity': 'safe'}, 'violence': {'filtered': False, 'severity': 'safe'}}}], 'finish_reason': 'stop', 'logprobs': None, 'content_filter_results': {'hate': {'filtered': False, 'severity': 'safe'}, 'self_harm': {'filtered': False, 'severity': 'safe'}, 'sexual': {'filtered': False, 'severity': 'safe'}, 'violence': {'filtered': False, 'severity': 'safe'}}}, id='run-20e42bc9-10a8-41ea-9030-0258f1bf5741-0', usage_metadata={'input_tokens': 36, 'output_tokens': 31, 'total_tokens': 67})"
      ]
     },
     "execution_count": 91,
     "metadata": {},
     "output_type": "execute_result"
    }
   ],
   "source": [
    "from langchain_core.prompts import ChatPromptTemplate\n",
    "\n",
    "prompt = ChatPromptTemplate.from_messages(\n",
    "    [\n",
    "        (\n",
    "            \"system\",\n",
    "            \"You are a helpful assistant that translates {input_language} to {output_language}.\",\n",
    "        ),\n",
    "        (\"human\", \"{input}\"),\n",
    "    ]\n",
    ")\n",
    "\n",
    "chain = prompt | llm  #compose the prompt and the model \n",
    "chain.invoke( #invoke the chain\n",
    "    {\n",
    "        \"input_language\": \"English\",\n",
    "        \"output_language\": \"Italian\",\n",
    "        \"input\": \"Esta muy padre este club del libro de intelligencia artificial.\",\n",
    "    }\n",
    ")"
   ]
  },
  {
   "cell_type": "code",
   "execution_count": null,
   "metadata": {},
   "outputs": [],
   "source": [
    "pip install -qU langchain_community pypdf\n",
    "pip install langchain-chromadb    "
   ]
  },
  {
   "cell_type": "code",
   "execution_count": 92,
   "metadata": {},
   "outputs": [],
   "source": [
    "from langchain_community.document_loaders import PyPDFLoader\n",
    "\n",
    "loader = PyPDFLoader(\n",
    "    \"Australia-Wikipedia.pdf\",\n",
    ")"
   ]
  },
  {
   "cell_type": "code",
   "execution_count": 93,
   "metadata": {},
   "outputs": [
    {
     "data": {
      "text/plain": [
       "Document(metadata={'source': 'Australia-Wikipedia.pdf', 'page': 0}, page_content='Commonwealth of Australia\\nFlag\\n Coat of arms\\nAnthem: \"Advance Australia Fair\"\\nCapital Canberra\\n35°18′29″S 149°07′28″E\\nLargest city Sydney (metropolitan)\\nMelbourne (urban)[N 2]\\nAustralia\\nAustralia , officially  the Commonwealth of Australia ,[17] is a coun try comprising the\\nmainland  of the Australian continent , the island of Tasmania , and numerous smaller\\nislands .[18] It is the largest country by area in Oceania  and the world\\'s sixth-largest\\ncountry . Australia is the oldest,[19] flattest,[20] and dries t inhabit ed continent,[21][22] with\\nthe least fertile soils.[23][24] It is a megadiverse country , and its size gives it a wide variety\\nof landscapes and climates including deserts  and tropical rainforests .\\nThe ance stors of Aboriginal Australians  began arriving from south-east Asia 50,000 to\\n65,000 years ago,  during the last glacial period .[25][26][27] They settled on the continent\\nand formed approximately 250 distinct language groups by the time of European\\nsettlement, maintaining some of the longest known continuing artistic  and religious\\ntraditions  in the world.[28] Australia\\'s written history  commen ced with Dutch exploration\\nof most of the coastline in the 17th- century. British colonisation began in 1788 with the\\nestablishment of the penal colony of New South Wales . By the mid-19th century, most of\\nthe continent had been explored by European settlers and five additional self-governing\\nBritish colonies  were established, each gaining responsible government  by 1890. The\\ncolonies federated  in 1901, forming the Commonwealth  of Australia.[29] This  continued a\\nprocess of increasi ng autonomy from the United Kingdom, highlighted by the Statute of\\nWestminster Adoption Act 1942 , and culminating in the Australia Acts  of 1986.[29]\\nAustralia is a federal  parliamentary  constitutional monarchy  comprising six states and\\nten territories . Its population of over 27 million is highly urbanised and heavily\\nconcentrated on the eastern seaboard.[11][30] Canberra  is the nation\\'s capital, while its\\nmost populous cities  are Sydney  and Melbourne , both with a population of over 5\\nmillion.[31] Australi a is culturally  diverse and has one of the highest foreign-born\\npopulations in the world.[32][33] It has a highly developed  market economy and one of the\\nhighest per capita incomes  globally.[34][35][36] Its abundant natu ral resources and well-[N 1]\\n1:04\\n  Commonwealth of Australia\\n  Australian territorial claim in Antarctica')"
      ]
     },
     "execution_count": 93,
     "metadata": {},
     "output_type": "execute_result"
    }
   ],
   "source": [
    "docs = loader.load()\n",
    "docs[0]"
   ]
  },
  {
   "cell_type": "code",
   "execution_count": null,
   "metadata": {},
   "outputs": [],
   "source": []
  },
  {
   "cell_type": "code",
   "execution_count": null,
   "metadata": {},
   "outputs": [],
   "source": []
  },
  {
   "cell_type": "code",
   "execution_count": null,
   "metadata": {},
   "outputs": [],
   "source": []
  }
 ],
 "metadata": {
  "kernelspec": {
   "display_name": ".venv",
   "language": "python",
   "name": "python3"
  },
  "language_info": {
   "codemirror_mode": {
    "name": "ipython",
    "version": 3
   },
   "file_extension": ".py",
   "mimetype": "text/x-python",
   "name": "python",
   "nbconvert_exporter": "python",
   "pygments_lexer": "ipython3",
   "version": "3.11.9"
  },
  "polyglot_notebook": {
   "kernelInfo": {
    "defaultKernelName": "csharp",
    "items": [
     {
      "aliases": [],
      "name": "csharp"
     }
    ]
   }
  }
 },
 "nbformat": 4,
 "nbformat_minor": 2
}
